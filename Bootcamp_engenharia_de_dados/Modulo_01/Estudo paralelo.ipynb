{
 "cells": [
  {
   "cell_type": "code",
   "execution_count": 1,
   "metadata": {},
   "outputs": [],
   "source": [
    "import requests"
   ]
  },
  {
   "cell_type": "code",
   "execution_count": 3,
   "metadata": {},
   "outputs": [],
   "source": [
    "response = requests.get('https://api.github.com')"
   ]
  },
  {
   "cell_type": "code",
   "execution_count": 4,
   "metadata": {},
   "outputs": [
    {
     "data": {
      "text/plain": [
       "200"
      ]
     },
     "execution_count": 4,
     "metadata": {},
     "output_type": "execute_result"
    }
   ],
   "source": [
    "response.status_code"
   ]
  },
  {
   "cell_type": "code",
   "execution_count": 7,
   "metadata": {},
   "outputs": [],
   "source": [
    "response_dic = response.json()"
   ]
  },
  {
   "cell_type": "code",
   "execution_count": 19,
   "metadata": {},
   "outputs": [
    {
     "data": {
      "text/plain": [
       "dict"
      ]
     },
     "execution_count": 19,
     "metadata": {},
     "output_type": "execute_result"
    }
   ],
   "source": [
    "type(response_dic)"
   ]
  },
  {
   "cell_type": "code",
   "execution_count": 20,
   "metadata": {},
   "outputs": [
    {
     "name": "stdout",
     "output_type": "stream",
     "text": [
      "Server : GitHub.com\n",
      "Date : Mon, 22 Apr 2024 23:51:20 GMT\n",
      "Content-Type : application/json; charset=utf-8\n",
      "Cache-Control : public, max-age=60, s-maxage=60\n",
      "Vary : Accept, Accept-Encoding, Accept, X-Requested-With\n",
      "ETag : W/\"4f825cc84e1c733059d46e76e6df9db557ae5254f9625dfe8e1b09499c449438\"\n",
      "X-GitHub-Media-Type : github.v3; format=json\n",
      "x-github-api-version-selected : 2022-11-28\n",
      "Access-Control-Expose-Headers : ETag, Link, Location, Retry-After, X-GitHub-OTP, X-RateLimit-Limit, X-RateLimit-Remaining, X-RateLimit-Used, X-RateLimit-Resource, X-RateLimit-Reset, X-OAuth-Scopes, X-Accepted-OAuth-Scopes, X-Poll-Interval, X-GitHub-Media-Type, X-GitHub-SSO, X-GitHub-Request-Id, Deprecation, Sunset\n",
      "Access-Control-Allow-Origin : *\n",
      "Strict-Transport-Security : max-age=31536000; includeSubdomains; preload\n",
      "X-Frame-Options : deny\n",
      "X-Content-Type-Options : nosniff\n",
      "X-XSS-Protection : 0\n",
      "Referrer-Policy : origin-when-cross-origin, strict-origin-when-cross-origin\n",
      "Content-Security-Policy : default-src 'none'\n",
      "Content-Encoding : gzip\n",
      "X-RateLimit-Limit : 60\n",
      "X-RateLimit-Remaining : 59\n",
      "X-RateLimit-Reset : 1713833481\n",
      "X-RateLimit-Resource : core\n",
      "X-RateLimit-Used : 1\n",
      "Accept-Ranges : bytes\n",
      "Content-Length : 510\n",
      "X-GitHub-Request-Id : 543B:18F915:A9173F:A9CDE5:6626F7F9\n"
     ]
    }
   ],
   "source": [
    "header = response.headers\n",
    "for chave,valor in header.items():\n",
    "    print(f'{chave} : {valor}')"
   ]
  },
  {
   "cell_type": "code",
   "execution_count": null,
   "metadata": {},
   "outputs": [],
   "source": []
  }
 ],
 "metadata": {
  "kernelspec": {
   "display_name": "base",
   "language": "python",
   "name": "python3"
  },
  "language_info": {
   "codemirror_mode": {
    "name": "ipython",
    "version": 3
   },
   "file_extension": ".py",
   "mimetype": "text/x-python",
   "name": "python",
   "nbconvert_exporter": "python",
   "pygments_lexer": "ipython3",
   "version": "3.11.7"
  }
 },
 "nbformat": 4,
 "nbformat_minor": 2
}
