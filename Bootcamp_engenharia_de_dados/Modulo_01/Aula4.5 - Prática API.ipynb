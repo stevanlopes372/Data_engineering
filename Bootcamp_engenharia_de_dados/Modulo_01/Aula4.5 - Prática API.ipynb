{
 "cells": [
  {
   "cell_type": "code",
   "execution_count": 2,
   "metadata": {},
   "outputs": [],
   "source": [
    "import requests\n",
    "import pandas as pd\n",
    "import io"
   ]
  },
  {
   "cell_type": "code",
   "execution_count": 4,
   "metadata": {},
   "outputs": [
    {
     "data": {
      "text/plain": [
       "200"
      ]
     },
     "execution_count": 4,
     "metadata": {},
     "output_type": "execute_result"
    }
   ],
   "source": [
    "url = 'http://compras.dados.gov.br/servicos/v1/servicos.csv?descricao=educação'\n",
    "requests.get(url).status_code"
   ]
  },
  {
   "cell_type": "code",
   "execution_count": 5,
   "metadata": {},
   "outputs": [],
   "source": [
    "data = requests.get(url).content"
   ]
  },
  {
   "cell_type": "code",
   "execution_count": 6,
   "metadata": {},
   "outputs": [
    {
     "data": {
      "text/plain": [
       "bytes"
      ]
     },
     "execution_count": 6,
     "metadata": {},
     "output_type": "execute_result"
    }
   ],
   "source": [
    "type(data)"
   ]
  },
  {
   "cell_type": "code",
   "execution_count": 7,
   "metadata": {},
   "outputs": [],
   "source": [
    "parse_data = io.StringIO(data.decode('utf-8'))"
   ]
  },
  {
   "cell_type": "code",
   "execution_count": 9,
   "metadata": {},
   "outputs": [
    {
     "data": {
      "text/html": [
       "<div>\n",
       "<style scoped>\n",
       "    .dataframe tbody tr th:only-of-type {\n",
       "        vertical-align: middle;\n",
       "    }\n",
       "\n",
       "    .dataframe tbody tr th {\n",
       "        vertical-align: top;\n",
       "    }\n",
       "\n",
       "    .dataframe thead th {\n",
       "        text-align: right;\n",
       "    }\n",
       "</style>\n",
       "<table border=\"1\" class=\"dataframe\">\n",
       "  <thead>\n",
       "    <tr style=\"text-align: right;\">\n",
       "      <th></th>\n",
       "      <th>Código</th>\n",
       "      <th>Descrição</th>\n",
       "      <th>Unidade medida</th>\n",
       "      <th>CPC</th>\n",
       "      <th>Seção</th>\n",
       "      <th>Divisão</th>\n",
       "      <th>Grupo</th>\n",
       "      <th>Classe</th>\n",
       "      <th>Subclasse</th>\n",
       "    </tr>\n",
       "  </thead>\n",
       "  <tbody>\n",
       "    <tr>\n",
       "      <th>0</th>\n",
       "      <td>14311</td>\n",
       "      <td>Orientação / Educação - Atividade Física      ...</td>\n",
       "      <td>UNHOMEM/H MÊS</td>\n",
       "      <td>9659</td>\n",
       "      <td>9: SERVIÇOS DA COMUNIDADE, PESSOAIS E SOCIAIS ...</td>\n",
       "      <td>96: SERVIÇOS RECREACIONAIS, CULTURAIS E ESPORT...</td>\n",
       "      <td>965: SERVIÇOS RELACIONADOS COM ESPORTES E SERV...</td>\n",
       "      <td>9659: OUTROS ESPORTES E SERVIÇOS DE ESPORTES R...</td>\n",
       "      <td>NaN</td>\n",
       "    </tr>\n",
       "    <tr>\n",
       "      <th>1</th>\n",
       "      <td>15946</td>\n",
       "      <td>Serviço Penitenciário - Reeducação e Reabilita...</td>\n",
       "      <td>UN</td>\n",
       "      <td>979</td>\n",
       "      <td>9: SERVIÇOS DA COMUNIDADE, PESSOAIS E SOCIAIS ...</td>\n",
       "      <td>97: OUTROS SERVIÇOS                           ...</td>\n",
       "      <td>979: OUTROS SERVIÇOS DIVERSOS/MISCELÂNEA      ...</td>\n",
       "      <td>NaN</td>\n",
       "      <td>NaN</td>\n",
       "    </tr>\n",
       "    <tr>\n",
       "      <th>2</th>\n",
       "      <td>18481</td>\n",
       "      <td>Consultoria e Assessoria - Educação           ...</td>\n",
       "      <td>UN</td>\n",
       "      <td>8319</td>\n",
       "      <td>8: SERVIÇOS DE ARQUITETURA, DESENHOS TÉCNICOS,...</td>\n",
       "      <td>83: OUTROS SERVIÇOS DE NEGÓCIOS, TÉCNICOS E PR...</td>\n",
       "      <td>831: SERVIÇOS DE CONSULTORIA E DE GERÊNCIA/GES...</td>\n",
       "      <td>8319: OUTROS SERVIÇOS DE GERÊNCIA/GESTÃO, EXCE...</td>\n",
       "      <td>NaN</td>\n",
       "    </tr>\n",
       "    <tr>\n",
       "      <th>3</th>\n",
       "      <td>19321</td>\n",
       "      <td>Curso / Treinamento Educação - Distância      ...</td>\n",
       "      <td>UN</td>\n",
       "      <td>929</td>\n",
       "      <td>9: SERVIÇOS DA COMUNIDADE, PESSOAIS E SOCIAIS ...</td>\n",
       "      <td>92: SERVIÇOS DA INSTRUÇÃO/ EDUCAÇÃO/ ENSINO   ...</td>\n",
       "      <td>929: OUTROS SERVIÇOS DE EDUCAÇÃO E TREINAMENTO...</td>\n",
       "      <td>NaN</td>\n",
       "      <td>NaN</td>\n",
       "    </tr>\n",
       "  </tbody>\n",
       "</table>\n",
       "</div>"
      ],
      "text/plain": [
       "   Código                                          Descrição Unidade medida  \\\n",
       "0   14311  Orientação / Educação - Atividade Física      ...  UNHOMEM/H MÊS   \n",
       "1   15946  Serviço Penitenciário - Reeducação e Reabilita...             UN   \n",
       "2   18481  Consultoria e Assessoria - Educação           ...             UN   \n",
       "3   19321  Curso / Treinamento Educação - Distância      ...             UN   \n",
       "\n",
       "    CPC                                              Seção  \\\n",
       "0  9659  9: SERVIÇOS DA COMUNIDADE, PESSOAIS E SOCIAIS ...   \n",
       "1   979  9: SERVIÇOS DA COMUNIDADE, PESSOAIS E SOCIAIS ...   \n",
       "2  8319  8: SERVIÇOS DE ARQUITETURA, DESENHOS TÉCNICOS,...   \n",
       "3   929  9: SERVIÇOS DA COMUNIDADE, PESSOAIS E SOCIAIS ...   \n",
       "\n",
       "                                             Divisão  \\\n",
       "0  96: SERVIÇOS RECREACIONAIS, CULTURAIS E ESPORT...   \n",
       "1  97: OUTROS SERVIÇOS                           ...   \n",
       "2  83: OUTROS SERVIÇOS DE NEGÓCIOS, TÉCNICOS E PR...   \n",
       "3  92: SERVIÇOS DA INSTRUÇÃO/ EDUCAÇÃO/ ENSINO   ...   \n",
       "\n",
       "                                               Grupo  \\\n",
       "0  965: SERVIÇOS RELACIONADOS COM ESPORTES E SERV...   \n",
       "1  979: OUTROS SERVIÇOS DIVERSOS/MISCELÂNEA      ...   \n",
       "2  831: SERVIÇOS DE CONSULTORIA E DE GERÊNCIA/GES...   \n",
       "3  929: OUTROS SERVIÇOS DE EDUCAÇÃO E TREINAMENTO...   \n",
       "\n",
       "                                              Classe  Subclasse  \n",
       "0  9659: OUTROS ESPORTES E SERVIÇOS DE ESPORTES R...        NaN  \n",
       "1                                                NaN        NaN  \n",
       "2  8319: OUTROS SERVIÇOS DE GERÊNCIA/GESTÃO, EXCE...        NaN  \n",
       "3                                                NaN        NaN  "
      ]
     },
     "execution_count": 9,
     "metadata": {},
     "output_type": "execute_result"
    }
   ],
   "source": [
    "df = pd.read_csv(parse_data)\n",
    "df.head()"
   ]
  },
  {
   "cell_type": "code",
   "execution_count": 10,
   "metadata": {},
   "outputs": [
    {
     "data": {
      "text/plain": [
       "Código            4\n",
       "Descrição         4\n",
       "Unidade medida    4\n",
       "CPC               4\n",
       "Seção             4\n",
       "Divisão           4\n",
       "Grupo             4\n",
       "Classe            2\n",
       "Subclasse         0\n",
       "dtype: int64"
      ]
     },
     "execution_count": 10,
     "metadata": {},
     "output_type": "execute_result"
    }
   ],
   "source": [
    "df.count()"
   ]
  },
  {
   "cell_type": "code",
   "execution_count": null,
   "metadata": {},
   "outputs": [],
   "source": []
  }
 ],
 "metadata": {
  "kernelspec": {
   "display_name": "base",
   "language": "python",
   "name": "python3"
  },
  "language_info": {
   "codemirror_mode": {
    "name": "ipython",
    "version": 3
   },
   "file_extension": ".py",
   "mimetype": "text/x-python",
   "name": "python",
   "nbconvert_exporter": "python",
   "pygments_lexer": "ipython3",
   "version": "3.11.7"
  }
 },
 "nbformat": 4,
 "nbformat_minor": 2
}
